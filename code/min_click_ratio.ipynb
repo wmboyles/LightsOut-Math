{
 "cells": [
  {
   "cell_type": "markdown",
   "metadata": {},
   "source": [
    "# How Does Nullity Affect Min Clicks?\n",
    "\n",
    "Below is a chart of a ratio of min clicks / n^2 vs nullity.\n",
    "We already know that if the nullity is 0, then this ratio would be 1.\n",
    "We can see that as nullity increases, the ratio of min clicks / n^2 decreases.\n",
    "\n",
    "![min_click_ratio_vs_nullity](min_click_ratio_vs_nullity.png)"
   ]
  },
  {
   "cell_type": "markdown",
   "metadata": {},
   "source": [
    "Although not labeled in the chart directly, it is the case that the dots with lower ratios within each nullity are smaller boards, while the dots with high ratios clustered together are larger boards.\n",
    "This seems to suggest that within each board, the ratio of min clicks / n^2 approaches a steady ratio from below.\n",
    "We certainly know that this is true for nullity 2 boards of size `(6k-1)`, as\n",
    "\n",
    "$$\n",
    "\\lim_{k\\to\\infty}{\\frac{26k^2 - 12k - 1}{(6k-1)^2}} = \\frac{13}{18} = 0.7222.\n",
    "$$\n",
    "\n",
    "If we can find this ratio, or at least an upper bound on the ratio for each nullity, we could give a good upper bound on the ratio of min clicks / n^2."
   ]
  },
  {
   "cell_type": "markdown",
   "metadata": {},
   "source": [
    "Here are the best approximations of these ratios we have from our data:\n",
    "\n",
    "| Nullity | Ratio   |\n",
    "| :-----: | :-----: |\n",
    "| 0       | 1       |\n",
    "| 2       | 0.72222 |\n",
    "| 4       | 0.67735 |\n",
    "| 6       | 0.60767 |\n",
    "| 8       | 0.58748 |\n",
    "| 10      | 0.55182 |\n",
    "| 12      | 0.50722 |"
   ]
  }
 ],
 "metadata": {
  "language_info": {
   "name": "python"
  },
  "orig_nbformat": 4
 },
 "nbformat": 4,
 "nbformat_minor": 2
}
