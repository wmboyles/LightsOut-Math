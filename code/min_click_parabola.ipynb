{
 "cells": [
  {
   "cell_type": "markdown",
   "metadata": {},
   "source": [
    "# How Does Nullity Affect Min Clicks?\n",
    "\n",
    "Below is a chart of a ratio of min clicks / n^2 vs nullity.\n",
    "We already know that if the nullity is 0, then this ratio would be 1.\n",
    "We can see that as nullity increases, the ratio of min clicks / n^2 decreases."
   ]
  },
  {
   "cell_type": "markdown",
   "metadata": {},
   "source": [
    "![min_click_ratio_vs_nullity](min_click_ratio_vs_nullity.png)"
   ]
  },
  {
   "cell_type": "markdown",
   "metadata": {},
   "source": [
    "Previously, we conjectured that all nullity 2 boards have size $6k-1$."
   ]
  },
  {
   "cell_type": "markdown",
   "metadata": {},
   "source": [
    "#### Nullity 0\n",
    "In this case, the ratio is 1.\n",
    "\n",
    "#### Nullity 2\n",
    "$$\n",
    "\\lim_{k\\to\\infty}{\\frac{26k^2 - 12k - 1}{(6k-1)^2}} = \\frac{13}{18} \\approx 0.7222.\n",
    "$$\n",
    "\n",
    "#### Nullity 4\n",
    "$$\n",
    "\\lim_{k\\to\\infty}{\\frac{17k^2 - 10k}{(5k-1)^2}} = \\frac{17}{25} = 0.68.\n",
    "$$\n",
    "\n",
    "#### Nullity 6\n",
    "$$\n",
    "\\lim_{k\\to\\infty}{\\frac{88k^2 - 24k  +1}{(12k-1)^2}} = \\frac{11}{18} \\approx 0.6111.\n",
    "$$\n",
    "\n",
    "#### Nullity 8(a)\n",
    "$$\n",
    "\\lim_{k\\to\\infty}{\\frac{60k^2 - 20k - 3}{(10k-1)^2}} = \\frac{3}{5} = 0.6.\n",
    "$$\n",
    "\n",
    "#### Nullity 8(b)\n",
    "$$\n",
    "\\lim_{k\\to\\infty}{\\frac{161k^2 - 34k - 3}{(17k-1)^2}} = \\frac{161}{289} \\approx 0.55709.\n",
    "$$\n",
    "\n",
    "#### Nullity 10\n",
    "$$\n",
    "\\lim_{k\\to\\infty}{\\frac{506k^2 - 60k - 3}{(30k-1)^2}} = \\frac{253}{450} \\approx 0.5622.\n",
    "$$\n",
    "\n",
    "#### Nullity 12\n",
    "This parabola relies on a currently unproven conjecture that the parabolas must always have integer coefficients.\n",
    "$$\n",
    "\\lim_{k\\to\\infty}{\\frac{3671k^2 - (13,14)k - (169,168)}{(85k-1)^2}} = \\frac{3761}{7225} \\approx 0.52055.\n",
    "$$"
   ]
  },
  {
   "cell_type": "markdown",
   "metadata": {},
   "source": [
    "If we can find this ratio, or at least an upper bound on the ratio for each nullity, we could give a good upper bound on the ratio of min clicks / n^2.\n",
    "\n",
    "Here are the best approximations of these ratios we have from our data:\n",
    "\n",
    "| Nullity | Ratio   |\n",
    "| :-----: | :-----: |\n",
    "| 0       | 1       |\n",
    "| 2       | 0.72222 |\n",
    "| 4       | 0.68    |\n",
    "| 6       | 0.61111 |\n",
    "| 8(a)    | 0.6     |\n",
    "| 8(b)    | 0.55709 |\n",
    "| 10      | 0.56222 |\n",
    "| 12      | 0.52055 |\n"
   ]
  },
  {
   "cell_type": "markdown",
   "metadata": {},
   "source": [
    "### Conjectures\n",
    "\n",
    "1. Let $m > n$ be two board sizes in the same nullity family. Then $MinClicksRatio(m) < MinClicksRatio(n)$.\n",
    "2. Let $X$ and $Y$ be two board families with $nullity(X) > nullity(Y)$. Then $\\lim_{x \\in X}{MinClicksRatio(x)} > \\lim_{y \\in Y}{MinClicksRatio(y)}$.\n",
    "3. Let $X$ be any board family. The $\\lim_{x \\in X}{MinClicksRatio(x)} > 0.5$."
   ]
  }
 ],
 "metadata": {
  "language_info": {
   "name": "python"
  },
  "orig_nbformat": 4
 },
 "nbformat": 4,
 "nbformat_minor": 2
}
